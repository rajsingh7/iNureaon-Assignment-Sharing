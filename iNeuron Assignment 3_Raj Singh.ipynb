{
 "cells": [
  {
   "cell_type": "markdown",
   "metadata": {},
   "source": [
    "# Task 1"
   ]
  },
  {
   "cell_type": "markdown",
   "metadata": {},
   "source": [
    "# 1. \n",
    "Write a function to compute 5/0 and use try/except to catch the exceptions."
   ]
  },
  {
   "cell_type": "code",
   "execution_count": 6,
   "metadata": {},
   "outputs": [
    {
     "name": "stdout",
     "output_type": "stream",
     "text": [
      "Enter the Numerator: 5\n",
      "Enter the Denominator: 0\n",
      "Error Type: division by zero. Division by zero is not allowed.Try other value for denominator.\n"
     ]
    }
   ],
   "source": [
    "def get_div():\n",
    "    num=int(input('Enter the Numerator: '))\n",
    "    den=int(input('Enter the Denominator: '))\n",
    "    try:\n",
    "        return num/den\n",
    "    except (ZeroDivisionError, Exception ) as y :\n",
    "        print(\"Error Type: {}. Division by zero is not allowed.Try other value for denominator.\".format(y))\n",
    "        \n",
    "get_div()"
   ]
  },
  {
   "cell_type": "markdown",
   "metadata": {},
   "source": [
    "# 2. \n",
    "Implement a Python program to generate all sentences where subject is in [\"Americans\",\"Indians\"] and verb is in [\"Play\", \"watch\"] and the object is in [\"Baseball\",\"cricket\"].\n",
    "\n",
    "Hint: Subject,Verb and Object should be declared in the program as shown below.\n",
    "\n",
    "subjects=[\"Americans \",\"Indians\"] verbs=[\"play\",\"watch\"] objects=[\"Baseball\",\"Cricket\"]"
   ]
  },
  {
   "cell_type": "code",
   "execution_count": 14,
   "metadata": {},
   "outputs": [
    {
     "name": "stdout",
     "output_type": "stream",
     "text": [
      "Americans play Baseball\n",
      "Americans play Cricket\n",
      "Americans watch Baseball\n",
      "Americans watch Cricket\n",
      "Indians play Baseball\n",
      "Indians play Cricket\n",
      "Indians watch Baseball\n",
      "Indians watch Cricket\n"
     ]
    }
   ],
   "source": [
    "def sentence(subjects,verbs,objs):\n",
    "    for sent in [f'{subj} {verb} {obj}' for subj in subjects for verb in verbs for obj in objs]:\n",
    "        print(sent)\n",
    "    \n",
    "\n",
    "sub=[\"Americans\",\"Indians\"] \n",
    "verb=[\"play\",\"watch\"] \n",
    "obj=[\"Baseball\",\"Cricket\"]\n",
    "\n",
    "w=sentence(sub,verb,obj)"
   ]
  },
  {
   "cell_type": "markdown",
   "metadata": {},
   "source": [
    "# Task 2"
   ]
  },
  {
   "cell_type": "markdown",
   "metadata": {},
   "source": [
    "1. Write a function so that the columns of the output matrix are powers of the input vector\n",
    "The order of the powers is determined by the increasing boolean argument.Specifically,when increasing is False, the i-th output column is the input vector raised element-wise to the power of N - i - 1.\n",
    "\n",
    "    HINT:Such amatrix with a geometric progression in each row is named for Alexandre-Theophile Vandermonde."
   ]
  },
  {
   "cell_type": "code",
   "execution_count": 16,
   "metadata": {},
   "outputs": [
    {
     "name": "stdout",
     "output_type": "stream",
     "text": [
      "[[  1   1   1   1]\n",
      " [  8   4   2   1]\n",
      " [ 27   9   3   1]\n",
      " [125  25   5   1]]\n",
      "[[  1   1   1   1   1]\n",
      " [ 16   8   4   2   1]\n",
      " [ 81  27   9   3   1]\n",
      " [625 125  25   5   1]]\n",
      "[[  1   1   1   1   1]\n",
      " [  1   2   4   8  16]\n",
      " [  1   3   9  27  81]\n",
      " [  1   5  25 125 625]]\n"
     ]
    }
   ],
   "source": [
    "import numpy as np\n",
    "def gen_vander_matrix(inp_vec, N=None, increasing = False):\n",
    "    \n",
    "    if N == None : N = len(inp_vec)\n",
    "    if increasing:\n",
    "        op_matrix = [[element**power for power in range(0, N)] for element in inp_vec]\n",
    "        print(np.row_stack(op_matrix))\n",
    "    else:\n",
    "        op_matrix = [[element**power for power in range(N-1, -1, -1)] for element in inp_vec]\n",
    "        print(np.row_stack(op_matrix))\n",
    "\n",
    "gen_vander_matrix([1, 2, 3, 5])\n",
    "\n",
    "gen_vander_matrix([1, 2, 3, 5],N=5)\n",
    "\n",
    "gen_vander_matrix([1, 2, 3, 5],N=5,increasing = True)"
   ]
  },
  {
   "cell_type": "code",
   "execution_count": null,
   "metadata": {},
   "outputs": [],
   "source": []
  }
 ],
 "metadata": {
  "kernelspec": {
   "display_name": "Python 3",
   "language": "python",
   "name": "python3"
  },
  "language_info": {
   "codemirror_mode": {
    "name": "ipython",
    "version": 3
   },
   "file_extension": ".py",
   "mimetype": "text/x-python",
   "name": "python",
   "nbconvert_exporter": "python",
   "pygments_lexer": "ipython3",
   "version": "3.6.10"
  }
 },
 "nbformat": 4,
 "nbformat_minor": 4
}
