{
 "cells": [
  {
   "cell_type": "markdown",
   "metadata": {},
   "source": [
    "# TASK 1"
   ]
  },
  {
   "cell_type": "markdown",
   "metadata": {},
   "source": [
    "# 1.1\n",
    "Write a Python Program to implement your own myreduce() function which works exactly like\n",
    "Python's built-in function reduce()\n"
   ]
  },
  {
   "cell_type": "code",
   "execution_count": 4,
   "metadata": {},
   "outputs": [],
   "source": [
    "def myreduce(func,iterable):\n",
    "    lst = iterable[0] # first element of iterable\n",
    "    for i in iterable[1:]:\n",
    "        lst = func(lst,i)\n",
    "    return lst\n",
    "        "
   ]
  },
  {
   "cell_type": "code",
   "execution_count": 18,
   "metadata": {},
   "outputs": [
    {
     "name": "stdout",
     "output_type": "stream",
     "text": [
      "Result for myreduce() function:   18\n",
      "Result for reduce() function:  18\n"
     ]
    }
   ],
   "source": [
    "# Examples for myreduce() function and comparing with inbuilt reduce function\n",
    "# Sum of all elemets of a list\n",
    "from functools import reduce\n",
    "func=lambda x,y: x+y\n",
    "seq=[3,4,5,6]\n",
    "\n",
    "result_myreduce = myreduce(func,seq)\n",
    "print('Result for myreduce() function:  ', result_myreduce )\n",
    "\n",
    "result_reduce= reduce(func,seq)\n",
    "print('Result for reduce() function: ', result_reduce)"
   ]
  },
  {
   "cell_type": "markdown",
   "metadata": {},
   "source": [
    "# 1.2\n",
    "Write a Python program to implement your own myfilter() function which works exactly like Python's built-in function filter()"
   ]
  },
  {
   "cell_type": "code",
   "execution_count": 10,
   "metadata": {},
   "outputs": [],
   "source": [
    "def myfilter(func, iterable):\n",
    "    lst = []\n",
    "    for i in iterable:\n",
    "        if func(i):\n",
    "            lst.append(i)\n",
    "    return lst"
   ]
  },
  {
   "cell_type": "code",
   "execution_count": 15,
   "metadata": {},
   "outputs": [
    {
     "name": "stdout",
     "output_type": "stream",
     "text": [
      "Result for myflter() function:   [4, 6]\n",
      "Result for filtere() function:  [4, 6]\n"
     ]
    }
   ],
   "source": [
    "func=lambda x: x%2==0\n",
    "seq=[3,4,5,6]\n",
    "\n",
    "result_myfilter = myfilter(func,seq)\n",
    "print('Result for myflter() function:  ', result_myfilter )\n",
    "\n",
    "result_filter= list(filter(func,seq))\n",
    "print('Result for filter() function: ', result_filter)"
   ]
  },
  {
   "cell_type": "markdown",
   "metadata": {},
   "source": [
    "# 2.\n",
    "Implement List comprehensions to produce the following lists.\n",
    "\n",
    "Write List comprehensions to produce the following Lists ['A', 'C', 'A', 'D', 'G', 'I', ’L’, ‘ D’]\n",
    "\n",
    "['x', 'xx', 'xxx', 'xxxx', 'y', 'yy', 'yyy', 'yyyy', 'z', 'zz', 'zzz', 'zzzz']\n",
    "\n",
    "['x', 'y', 'z', 'xx', 'yy', 'zz', 'xx', 'yy', 'zz', 'xxxx', 'yyyy', 'zzzz']\n",
    "\n",
    "[[2], [3], [4], [3], [4], [5], [4], [5], [6]]\n",
    "\n",
    "[[2, 3, 4, 5], [3, 4, 5, 6], [4, 5, 6, 7], [5, 6, 7, 8]]\n",
    "\n",
    "[(1, 1), (2, 1), (3, 1), (1, 2), (2, 2), (3, 2), (1, 3), (2, 3), (3, 3)]"
   ]
  },
  {
   "cell_type": "code",
   "execution_count": 62,
   "metadata": {},
   "outputs": [
    {
     "name": "stdout",
     "output_type": "stream",
     "text": [
      "['A', 'C', 'A', 'D', 'G', 'I', 'L', 'D']\n",
      "\n",
      "['x', 'xx', 'xxx', 'xxxx', 'y', 'yy', 'yyy', 'yyyy', 'z', 'zz', 'zzz', 'zzzz']\n",
      "\n",
      "['x', 'y', 'z', 'xx', 'yy', 'zz', 'xxx', 'yyy', 'zzz', 'xxxx', 'yyyy', 'zzzz']\n",
      "\n",
      "[2, 3, 4, 3, 4, 5, 4, 5, 6]\n",
      "\n",
      "[[2, 3, 4, 5], [3, 4, 5, 6], [4, 5, 6, 7], [5, 6, 7, 8]]\n",
      "\n",
      "[(1, 1), (2, 1), (3, 1), (1, 2), (2, 2), (3, 2), (1, 3), (2, 3), (3, 3)]\n",
      "\n"
     ]
    }
   ],
   "source": [
    "print([i for i in 'ACADGILD'], end='\\n\\n')\n",
    "print([i*(j+1) for i in 'xyz' for j in range(4)], end='\\n\\n')\n",
    "print([i*(j+1) for j in range(4) for i in 'xyz' ], end='\\n\\n')\n",
    "print([(i+j+1) for j in range(1,4) for i in range(3)], end='\\n\\n')\n",
    "print([[(i+j+1) for j in range(1,5)] for i in range(4)], end='\\n\\n')\n",
    "print([(j+1,i+1) for i in range(3) for j in range(3)], end='\\n\\n')"
   ]
  },
  {
   "cell_type": "markdown",
   "metadata": {},
   "source": [
    "# 3.\n",
    "  Implement a function longestWord() that takes a list of words and returns the longest one."
   ]
  },
  {
   "cell_type": "code",
   "execution_count": 74,
   "metadata": {},
   "outputs": [],
   "source": [
    "def longestWORD(lst):\n",
    "    lngwrd='  '\n",
    "    lnglng=0\n",
    "    for i in range( len(lst)):\n",
    "        if len( lst[i])>lnglng:\n",
    "            lngwrd=lst[i]\n",
    "            lnglng= len( lst[i])\n",
    "    return lngwrd    \n",
    "        "
   ]
  },
  {
   "cell_type": "code",
   "execution_count": 75,
   "metadata": {
    "scrolled": true
   },
   "outputs": [
    {
     "data": {
      "text/plain": [
       "'werty'"
      ]
     },
     "execution_count": 75,
     "metadata": {},
     "output_type": "execute_result"
    }
   ],
   "source": [
    "longestWORD(['ad','dfg','werty'])"
   ]
  },
  {
   "cell_type": "markdown",
   "metadata": {},
   "source": [
    "# TASK 2"
   ]
  },
  {
   "cell_type": "markdown",
   "metadata": {},
   "source": [
    "# 1.1\n",
    " Write a Python Program(with class concepts) to find the area of the triangle using the below formula. area = (s(s-a)(s-b)*(s-      c)) ** 0.5\n",
    "\n",
    "  Function to take the length of the sides of triangle from user should be defined in the parent\n",
    "\n",
    "  class and function to calculate the area should be defined in subclass."
   ]
  },
  {
   "cell_type": "code",
   "execution_count": 127,
   "metadata": {},
   "outputs": [
    {
     "name": "stdout",
     "output_type": "stream",
     "text": [
      "Enter the length of side1 : 3\n",
      "Enter the length of side2 : 4\n",
      "Enter the length of side3 : 5\n",
      "The area of traingle is  6.0\n"
     ]
    }
   ],
   "source": [
    "class Triangle:\n",
    "    def __init__(self, a,b,c):\n",
    "        self.a=a\n",
    "        self.b=b\n",
    "        self.c=c\n",
    "        \n",
    "class Area(Triangle):     \n",
    "    def __init__(self,*args):\n",
    "        super(Area, self).__init__(*args) \n",
    "        \n",
    "    def get_area(self):                     \n",
    "        s=(self.a+self.b+self.c)/2\n",
    "        area = (s*(s-self.a)*(s-self.b)*(s-self.c))**0.5    \n",
    "        return area\n",
    "    \n",
    "s1=float(input('Enter the length of side1 : '))\n",
    "s2=float(input('Enter the length of side2 : '))\n",
    "s3=float(input('Enter the length of side3 : '))\n",
    "\n",
    "w=Area(s1,s2,s3)\n",
    "w.get_area()\n",
    "\n",
    "print('The area of traingle is ',w.get_area())"
   ]
  },
  {
   "cell_type": "markdown",
   "metadata": {},
   "source": [
    "# 1.2\n",
    "    Write a function filter_long_words() that takes a list of words and an integer n and returns the list of words that are  longer than n."
   ]
  },
  {
   "cell_type": "code",
   "execution_count": 136,
   "metadata": {},
   "outputs": [
    {
     "data": {
      "text/plain": [
       "['werty', 'hkgfkd', 'gjklj']"
      ]
     },
     "execution_count": 136,
     "metadata": {},
     "output_type": "execute_result"
    }
   ],
   "source": [
    "def filter_long_words(input_string,n):\n",
    "    return list(filter(lambda x: len(x)>n, input_string))\n",
    "\n",
    "filter_long_words((['ad','dfg','werty','hkgfkd','gjklj']),3)"
   ]
  },
  {
   "cell_type": "markdown",
   "metadata": {},
   "source": [
    "# 2.1\n",
    " Write a Python program using function concept that maps list of words into a list of integers representing the lengths of      the corresponding words.\n",
    "\n",
    " Hint: If a list [ ab,cde,erty] is passed on to the python function output should come as [2,3,4] Here 2,3 and 4 are the        lengths of the words in the list."
   ]
  },
  {
   "cell_type": "code",
   "execution_count": 138,
   "metadata": {},
   "outputs": [
    {
     "data": {
      "text/plain": [
       "[2, 3, 5, 6, 5]"
      ]
     },
     "execution_count": 138,
     "metadata": {},
     "output_type": "execute_result"
    }
   ],
   "source": [
    "def word_length(input_string):\n",
    "    return list(map(lambda x: len(x), input_string))\n",
    "\n",
    "word_length((['ad','dfg','werty','hkgfkd','gjklj']))\n"
   ]
  },
  {
   "cell_type": "markdown",
   "metadata": {},
   "source": [
    "# 2.2\n",
    "  Write a Python function which takes a character (i.e. a string of length 1) and returns True if it is a vowel, False otherwise."
   ]
  },
  {
   "cell_type": "code",
   "execution_count": 147,
   "metadata": {},
   "outputs": [
    {
     "name": "stdout",
     "output_type": "stream",
     "text": [
      "Enter a character: a\n",
      "True\n"
     ]
    }
   ],
   "source": [
    "def check_vowel():\n",
    "    char = input(\"Enter a character: \")\n",
    "    vowels = ['a','e','i','o','u']\n",
    "    if char.lower() in vowels:\n",
    "        print('True')\n",
    "    else:\n",
    "        print('False')\n",
    "\n",
    "check_vowel()"
   ]
  },
  {
   "cell_type": "code",
   "execution_count": null,
   "metadata": {},
   "outputs": [],
   "source": []
  }
 ],
 "metadata": {
  "kernelspec": {
   "display_name": "Python 3",
   "language": "python",
   "name": "python3"
  },
  "language_info": {
   "codemirror_mode": {
    "name": "ipython",
    "version": 3
   },
   "file_extension": ".py",
   "mimetype": "text/x-python",
   "name": "python",
   "nbconvert_exporter": "python",
   "pygments_lexer": "ipython3",
   "version": "3.6.5"
  }
 },
 "nbformat": 4,
 "nbformat_minor": 2
}
